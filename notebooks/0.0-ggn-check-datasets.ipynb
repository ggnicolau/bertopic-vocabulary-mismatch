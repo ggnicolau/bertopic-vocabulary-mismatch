{
 "cells": [
  {
   "cell_type": "code",
   "execution_count": 3,
   "id": "619994a0-3b1e-47ad-aee9-c368a34653d4",
   "metadata": {},
   "outputs": [],
   "source": [
    "datasets = ['CSTR.csv', 'Dmoz-Computers.csv', 'Dmoz-Health.csv', \n",
    "            'Dmoz-Science.csv', 'Dmoz-Sports.csv', 'Industry Sector.csv',\n",
    "           'NSF.csv', 'SyskillWebert.csv', 'classic4.csv', 're8.csv', \n",
    "           'review_polarity.csv', 'webkb-parsed.csv']"
   ]
  },
  {
   "cell_type": "code",
   "execution_count": 71,
   "id": "9d528bb7-5ea1-4b69-9174-e7dda0e097da",
   "metadata": {},
   "outputs": [
    {
     "name": "stdout",
     "output_type": "stream",
     "text": [
      "--2022-07-10 12:36:12--  https://raw.githubusercontent.com/rmarcacini/text-collections/master/complete_texts_csvs/CSTR.csv\n",
      "Resolving raw.githubusercontent.com (raw.githubusercontent.com)... 2606:50c0:8003::154, 2606:50c0:8002::154, 2606:50c0:8001::154, ...\n",
      "Connecting to raw.githubusercontent.com (raw.githubusercontent.com)|2606:50c0:8003::154|:443... connected.\n",
      "HTTP request sent, awaiting response... 200 OK\n",
      "Length: 343571 (336K) [text/plain]\n",
      "Saving to: ‘CSTR.csv’\n",
      "\n",
      "CSTR.csv            100%[===================>] 335,52K  --.-KB/s    in 0,02s   \n",
      "\n",
      "2022-07-10 12:36:13 (14,5 MB/s) - ‘CSTR.csv’ saved [343571/343571]\n",
      "\n"
     ]
    }
   ],
   "source": [
    "#!wget https://raw.githubusercontent.com/rmarcacini/text-collections/master/complete_texts_csvs/CSTR.csv"
   ]
  },
  {
   "cell_type": "code",
   "execution_count": 72,
   "id": "040ac7a7-7dc2-490b-a1b6-6ce9e8b17e79",
   "metadata": {},
   "outputs": [],
   "source": [
    "import pandas as pd\n",
    "path = '../data/raw'\n",
    "dataset = 're8'\n",
    "df = pd.read_csv(f'{path}/{dataset}.csv')"
   ]
  },
  {
   "cell_type": "code",
   "execution_count": 73,
   "id": "f65874c8-a98c-4132-9fe2-7dc2c6e63445",
   "metadata": {},
   "outputs": [
    {
     "data": {
      "text/html": [
       "<div>\n",
       "<style scoped>\n",
       "    .dataframe tbody tr th:only-of-type {\n",
       "        vertical-align: middle;\n",
       "    }\n",
       "\n",
       "    .dataframe tbody tr th {\n",
       "        vertical-align: top;\n",
       "    }\n",
       "\n",
       "    .dataframe thead th {\n",
       "        text-align: right;\n",
       "    }\n",
       "</style>\n",
       "<table border=\"1\" class=\"dataframe\">\n",
       "  <thead>\n",
       "    <tr style=\"text-align: right;\">\n",
       "      <th></th>\n",
       "      <th>file_name</th>\n",
       "      <th>text</th>\n",
       "      <th>class</th>\n",
       "    </tr>\n",
       "  </thead>\n",
       "  <tbody>\n",
       "    <tr>\n",
       "      <th>0</th>\n",
       "      <td>acq.4342.txt</td>\n",
       "      <td>mcdowell me to merger with interpharm inc mcdo...</td>\n",
       "      <td>acq</td>\n",
       "    </tr>\n",
       "    <tr>\n",
       "      <th>1</th>\n",
       "      <td>acq.5302.txt</td>\n",
       "      <td>intermagnetics general inma completes buy inte...</td>\n",
       "      <td>acq</td>\n",
       "    </tr>\n",
       "    <tr>\n",
       "      <th>2</th>\n",
       "      <td>acq.8530.txt</td>\n",
       "      <td>tesco extends hillards offer tesco plc tsco l ...</td>\n",
       "      <td>acq</td>\n",
       "    </tr>\n",
       "    <tr>\n",
       "      <th>3</th>\n",
       "      <td>acq.3841.txt</td>\n",
       "      <td>healthvest hvt sells shares healthvest a maryl...</td>\n",
       "      <td>acq</td>\n",
       "    </tr>\n",
       "    <tr>\n",
       "      <th>4</th>\n",
       "      <td>acq.6302.txt</td>\n",
       "      <td>cooper canada said it received takeover offers...</td>\n",
       "      <td>acq</td>\n",
       "    </tr>\n",
       "  </tbody>\n",
       "</table>\n",
       "</div>"
      ],
      "text/plain": [
       "      file_name                                               text class\n",
       "0  acq.4342.txt  mcdowell me to merger with interpharm inc mcdo...   acq\n",
       "1  acq.5302.txt  intermagnetics general inma completes buy inte...   acq\n",
       "2  acq.8530.txt  tesco extends hillards offer tesco plc tsco l ...   acq\n",
       "3  acq.3841.txt  healthvest hvt sells shares healthvest a maryl...   acq\n",
       "4  acq.6302.txt  cooper canada said it received takeover offers...   acq"
      ]
     },
     "execution_count": 73,
     "metadata": {},
     "output_type": "execute_result"
    }
   ],
   "source": [
    "df.head(5)"
   ]
  },
  {
   "cell_type": "code",
   "execution_count": 74,
   "id": "532e494d-4a71-48cc-9913-48f05ffba02d",
   "metadata": {},
   "outputs": [
    {
     "data": {
      "text/plain": [
       "(7674, 3)"
      ]
     },
     "execution_count": 74,
     "metadata": {},
     "output_type": "execute_result"
    }
   ],
   "source": [
    "df.shape"
   ]
  },
  {
   "cell_type": "code",
   "execution_count": 75,
   "id": "8b046418-3f03-4576-a195-f98cffa11ebb",
   "metadata": {},
   "outputs": [
    {
     "data": {
      "text/plain": [
       "count    7674.00000\n",
       "mean      102.36539\n",
       "std       117.64165\n",
       "min         5.00000\n",
       "25%        33.00000\n",
       "50%        64.00000\n",
       "75%       113.00000\n",
       "max       964.00000\n",
       "Name: token_count, dtype: float64"
      ]
     },
     "execution_count": 75,
     "metadata": {},
     "output_type": "execute_result"
    }
   ],
   "source": [
    "df['token_count'] = df.text.str.replace(',','').str.split().str.len()\n",
    "df['token_count'].describe()"
   ]
  }
 ],
 "metadata": {
  "kernelspec": {
   "display_name": "Python 3 (ipykernel)",
   "language": "python",
   "name": "python3"
  },
  "language_info": {
   "codemirror_mode": {
    "name": "ipython",
    "version": 3
   },
   "file_extension": ".py",
   "mimetype": "text/x-python",
   "name": "python",
   "nbconvert_exporter": "python",
   "pygments_lexer": "ipython3",
   "version": "3.10.2"
  }
 },
 "nbformat": 4,
 "nbformat_minor": 5
}
