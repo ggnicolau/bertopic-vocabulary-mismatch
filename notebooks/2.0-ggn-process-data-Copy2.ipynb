{
 "cells": [
  {
   "cell_type": "code",
   "execution_count": 75,
   "id": "5d02bf98-8050-4ada-b0e4-308580661e12",
   "metadata": {
    "tags": []
   },
   "outputs": [],
   "source": [
    "import pandas as pd\n",
    "import os\n",
    "\n",
    "def get_df():\n",
    "    df=pd.DataFrame()\n",
    "    #os.chdir()\n",
    "    for file in os.listdir('/home/ggnicolau/Documents/TCC/bertopic-vocabulary-mismatch/data/interim/baseline/'):\n",
    "        if file.endswith('.parquet.gzip'):\n",
    "            print('hey')\n",
    "            aux=pd.read_parquet(file)\n",
    "            print('ho')\n",
    "            df=df.append(aux)\n",
    "            print('lets go')\n",
    "    return df\n",
    "\n",
    "#df=get_df()"
   ]
  },
  {
   "cell_type": "code",
   "execution_count": 28,
   "id": "9f02dde7-0ae2-4f23-96f9-a71ff0e778ba",
   "metadata": {},
   "outputs": [],
   "source": [
    "def min_max_scaling(series):\n",
    "    return (series - series.min()) / (series.max() - series.min())\n",
    "\n",
    "def z_score_standardization(series):\n",
    "    return (series - series.mean()) / series.std()"
   ]
  },
  {
   "cell_type": "code",
   "execution_count": 62,
   "id": "143c6b68-8766-4909-8e6d-a76077b43517",
   "metadata": {},
   "outputs": [],
   "source": [
    "import pandas as pd\n",
    "import os\n",
    "\n",
    "\n",
    "df_classic4=pd.read_parquet('/home/ggnicolau/Documents/TCC/bertopic-vocabulary-mismatch/data/interim/baseline/df_results_baseline_classic4.parquet.gzip').sample(499)\n",
    "df_classic4['dataset'] = 'classic4'\n",
    "df_classic4['entropy'] = z_score_standardization(df_classic4['entropy'])\n",
    "\n",
    "df_CSTR=pd.read_parquet('/home/ggnicolau/Documents/TCC/bertopic-vocabulary-mismatch/data/interim/baseline/df_results_baseline_CSTR.parquet.gzip').sample(499)\n",
    "df_CSTR['dataset'] = 'CSTR'\n",
    "df_CSTR['entropy'] = z_score_standardization(df_CSTR['entropy'])\n",
    "\n",
    "df_Dmoz_Computers=pd.read_parquet('/home/ggnicolau/Documents/TCC/bertopic-vocabulary-mismatch/data/interim/baseline/df_results_baseline_Dmoz-Computers.parquet.gzip').sample(499)\n",
    "df_Dmoz_Computers['dataset'] = 'Dmoz-Computers'\n",
    "df_Dmoz_Computers['entropy'] = z_score_standardization(df_Dmoz_Computers['entropy'])\n",
    "\n",
    "df_Dmoz_Health=pd.read_parquet('/home/ggnicolau/Documents/TCC/bertopic-vocabulary-mismatch/data/interim/baseline/df_results_baseline_Dmoz-Health.parquet.gzip').sample(499)\n",
    "df_Dmoz_Health['dataset'] = 'Dmoz-Health'\n",
    "df_Dmoz_Health['entropy'] = z_score_standardization(df_Dmoz_Health['entropy'])\n",
    "\n",
    "df_Dmoz_Science=pd.read_parquet('/home/ggnicolau/Documents/TCC/bertopic-vocabulary-mismatch/data/interim/baseline/df_results_baseline_Dmoz-Science.parquet.gzip').sample(499)\n",
    "df_Dmoz_Science['dataset'] = 'Dmoz-Science'\n",
    "df_Dmoz_Science['entropy'] = z_score_standardization(df_Dmoz_Science['entropy'])\n",
    "\n",
    "df_Dmoz_Sports=pd.read_parquet('/home/ggnicolau/Documents/TCC/bertopic-vocabulary-mismatch/data/interim/baseline/df_results_baseline_Dmoz-Sports.parquet.gzip').sample(499)\n",
    "df_Dmoz_Sports['dataset'] = 'Dmoz-Sports'\n",
    "df_Dmoz_Sports['entropy'] = z_score_standardization(df_Dmoz_Sports['entropy'])\n",
    "\n",
    "\n",
    "df_Industry_Sector=pd.read_parquet('/home/ggnicolau/Documents/TCC/bertopic-vocabulary-mismatch/data/interim/baseline/df_results_baseline_Industry_Sector.parquet.gzip').sample(499)\n",
    "df_Industry_Sector['dataset'] = 'Industry_Sector'\n",
    "df_Industry_Sector['entropy'] = z_score_standardization(df_Industry_Sector['entropy'])\n",
    "\n",
    "df_NSF=pd.read_parquet('/home/ggnicolau/Documents/TCC/bertopic-vocabulary-mismatch/data/interim/baseline/df_results_baseline_NSF.parquet.gzip').sample(499)\n",
    "df_NSF['dataset'] = 'NSF'\n",
    "df_NSF['entropy'] = z_score_standardization(df_NSF['entropy'])\n",
    "\n",
    "\n",
    "df_re8=pd.read_parquet('/home/ggnicolau/Documents/TCC/bertopic-vocabulary-mismatch/data/interim/baseline/df_results_baseline_re8.parquet.gzip').sample(499)\n",
    "df_re8['dataset'] = 're8'\n",
    "df_re8['entropy'] = z_score_standardization(df_re8['entropy'])\n",
    "\n",
    "# df_webkb=pd.read_parquet('/home/ggnicolau/Documents/TCC/bertopic-vocabulary-mismatch/data/interim/baseline/df_results_baseline_webkb-parsed.parquet.gzip')\n",
    "# df_webkb['dataset'] = 'webkb-parsed'"
   ]
  },
  {
   "cell_type": "code",
   "execution_count": 63,
   "id": "2a943174-6868-468e-83d6-a2730a9ec9c8",
   "metadata": {},
   "outputs": [
    {
     "data": {
      "text/plain": [
       "(1000, 4)"
      ]
     },
     "execution_count": 63,
     "metadata": {},
     "output_type": "execute_result"
    }
   ],
   "source": [
    "pd.read_parquet('/home/ggnicolau/Documents/TCC/bertopic-vocabulary-mismatch/data/interim/baseline/df_results_baseline_classic4.parquet.gzip').shape"
   ]
  },
  {
   "cell_type": "code",
   "execution_count": 64,
   "id": "240fcf55-865b-41ac-a37f-6f5cc3b2e4fa",
   "metadata": {},
   "outputs": [
    {
     "data": {
      "text/plain": [
       "(499, 4)"
      ]
     },
     "execution_count": 64,
     "metadata": {},
     "output_type": "execute_result"
    }
   ],
   "source": [
    "pd.read_parquet('/home/ggnicolau/Documents/TCC/bertopic-vocabulary-mismatch/data/interim/baseline/df_results_baseline_CSTR.parquet.gzip').shape"
   ]
  },
  {
   "cell_type": "code",
   "execution_count": 65,
   "id": "6ebbadc9-bfb1-42d0-a12d-9c2e2cbcc2cf",
   "metadata": {},
   "outputs": [
    {
     "data": {
      "text/plain": [
       "(1000, 4)"
      ]
     },
     "execution_count": 65,
     "metadata": {},
     "output_type": "execute_result"
    }
   ],
   "source": [
    "pd.read_parquet('/home/ggnicolau/Documents/TCC/bertopic-vocabulary-mismatch/data/interim/baseline/df_results_baseline_Dmoz-Computers.parquet.gzip').shape"
   ]
  },
  {
   "cell_type": "code",
   "execution_count": 66,
   "id": "9cad31cd-79bf-4f35-9af6-a77de8dfcf48",
   "metadata": {},
   "outputs": [
    {
     "data": {
      "text/plain": [
       "(1000, 4)"
      ]
     },
     "execution_count": 66,
     "metadata": {},
     "output_type": "execute_result"
    }
   ],
   "source": [
    "pd.read_parquet('/home/ggnicolau/Documents/TCC/bertopic-vocabulary-mismatch/data/interim/baseline/df_results_baseline_Dmoz-Health.parquet.gzip').shape\n"
   ]
  },
  {
   "cell_type": "code",
   "execution_count": 67,
   "id": "9362b04f-f1aa-44a2-9f67-8de708a05e27",
   "metadata": {},
   "outputs": [
    {
     "data": {
      "text/plain": [
       "(1000, 4)"
      ]
     },
     "execution_count": 67,
     "metadata": {},
     "output_type": "execute_result"
    }
   ],
   "source": [
    "pd.read_parquet('/home/ggnicolau/Documents/TCC/bertopic-vocabulary-mismatch/data/interim/baseline/df_results_baseline_Dmoz-Sports.parquet.gzip').shape\n"
   ]
  },
  {
   "cell_type": "code",
   "execution_count": 68,
   "id": "7e81531e-e7fc-47d4-8016-150a8069ab7c",
   "metadata": {},
   "outputs": [
    {
     "data": {
      "text/plain": [
       "(1000, 4)"
      ]
     },
     "execution_count": 68,
     "metadata": {},
     "output_type": "execute_result"
    }
   ],
   "source": [
    "pd.read_parquet('/home/ggnicolau/Documents/TCC/bertopic-vocabulary-mismatch/data/interim/baseline/df_results_baseline_Industry_Sector.parquet.gzip').shape\n"
   ]
  },
  {
   "cell_type": "code",
   "execution_count": 69,
   "id": "2928b88f-617c-46be-bf46-bad43543c207",
   "metadata": {},
   "outputs": [
    {
     "data": {
      "text/plain": [
       "(1000, 4)"
      ]
     },
     "execution_count": 69,
     "metadata": {},
     "output_type": "execute_result"
    }
   ],
   "source": [
    "pd.read_parquet('/home/ggnicolau/Documents/TCC/bertopic-vocabulary-mismatch/data/interim/baseline/df_results_baseline_NSF.parquet.gzip').shape\n"
   ]
  },
  {
   "cell_type": "code",
   "execution_count": 70,
   "id": "283c62cd-030f-4410-8f66-c7c31c3c9829",
   "metadata": {},
   "outputs": [
    {
     "data": {
      "text/plain": [
       "(1000, 4)"
      ]
     },
     "execution_count": 70,
     "metadata": {},
     "output_type": "execute_result"
    }
   ],
   "source": [
    "pd.read_parquet('/home/ggnicolau/Documents/TCC/bertopic-vocabulary-mismatch/data/interim/baseline/df_results_baseline_re8.parquet.gzip').shape"
   ]
  },
  {
   "cell_type": "code",
   "execution_count": 71,
   "id": "67deb252-9f6d-4de2-958e-b23fb1b9f83c",
   "metadata": {},
   "outputs": [],
   "source": [
    "#df_baseline = pd.concat([df1, df2, df3, df4, df5, df6, df7, df8, df9, df10], ignore_index=True)\n",
    "#df_baseline = pd.concat([df_classic4, df_CSTR, df_Dmoz_Computers, df_Dmoz_Health, df_Dmoz_Science, df_Industry_Sector], ignore_index=True)\n",
    "df_baseline = pd.concat([df_classic4, df_CSTR, df_Dmoz_Computers, df_Dmoz_Health, df_Dmoz_Science, df_Industry_Sector, df_re8], ignore_index=True)\n",
    "df_baseline = pd.concat([df_classic4, df_CSTR, df_Dmoz_Computers, df_Dmoz_Health, df_Dmoz_Science, df_Industry_Sector, df_re8, df_Dmoz_Sports, df_NSF], ignore_index=True)\n",
    "df_baseline['entropy'] = min_max_scaling(df_baseline['entropy'])"
   ]
  },
  {
   "cell_type": "code",
   "execution_count": 72,
   "id": "b80b1a63-2e45-42d3-b285-6c686eed5777",
   "metadata": {},
   "outputs": [
    {
     "name": "stdout",
     "output_type": "stream",
     "text": [
      "Current Working Directory  /home/ggnicolau/Documents/TCC/bertopic-vocabulary-mismatch/notebooks\n"
     ]
    }
   ],
   "source": [
    "print(\"Current Working Directory \" , os.getcwd())"
   ]
  },
  {
   "cell_type": "code",
   "execution_count": null,
   "id": "2d5efc64-c880-4b6f-9a4c-51f9d0608c3b",
   "metadata": {},
   "outputs": [],
   "source": []
  },
  {
   "cell_type": "code",
   "execution_count": null,
   "id": "67f6b550-ca49-4543-bb74-5931e15b5094",
   "metadata": {},
   "outputs": [],
   "source": []
  },
  {
   "cell_type": "code",
   "execution_count": null,
   "id": "d2f28af5-64df-4cbc-a8cc-7324b12ec527",
   "metadata": {},
   "outputs": [],
   "source": []
  },
  {
   "cell_type": "code",
   "execution_count": null,
   "id": "1025145a-cd06-4046-ada4-eef19b2ef231",
   "metadata": {},
   "outputs": [],
   "source": []
  },
  {
   "cell_type": "code",
   "execution_count": 73,
   "id": "16211ac5-24da-44db-ae97-8279d7f4628c",
   "metadata": {
    "tags": []
   },
   "outputs": [],
   "source": [
    "df_classic4=pd.read_parquet('/home/ggnicolau/Documents/TCC/bertopic-vocabulary-mismatch/data/interim/proposal/df_results_proposal_classic4.parquet.gzip').sample(499)\n",
    "df_classic4['dataset'] = 'classic4'\n",
    "df_classic4['entropy'] = z_score_standardization(df_classic4['entropy'])\n",
    "\n",
    "\n",
    "df_CSTR=pd.read_parquet('/home/ggnicolau/Documents/TCC/bertopic-vocabulary-mismatch/data/interim/proposal/df_results_proposal_CSTR_allmpnet.parquet.gzip').sample(499)\n",
    "df_CSTR['dataset'] = 'CSTR'\n",
    "df_CSTR['entropy'] = z_score_standardization(df_CSTR['entropy'])\n",
    "\n",
    "\n",
    "df_Dmoz_Computers=pd.read_parquet('/home/ggnicolau/Documents/TCC/bertopic-vocabulary-mismatch/data/interim/proposal/df_results_proposal_Dmoz-Computers_all-mpnet.parquet.gzip').sample(499)\n",
    "df_Dmoz_Computers['dataset'] = 'Dmoz-Computers'\n",
    "df_Dmoz_Computers['entropy'] = z_score_standardization(df_Dmoz_Computers['entropy'])\n",
    "\n",
    "\n",
    "df_Dmoz_Health=pd.read_parquet('/home/ggnicolau/Documents/TCC/bertopic-vocabulary-mismatch/data/interim/proposal/df_results_proposal_Dmoz-Health.parquet.gzip').sample(499)\n",
    "df_Dmoz_Health['dataset'] = 'Dmoz-Health'\n",
    "df_Dmoz_Health['entropy'] = z_score_standardization(df_Dmoz_Health['entropy'])\n",
    "\n",
    "\n",
    "df_Dmoz_Science=pd.read_parquet('/home/ggnicolau/Documents/TCC/bertopic-vocabulary-mismatch/data/interim/proposal/df_results_proposal_Dmoz-Science.parquet.gzip').sample(499)\n",
    "df_Dmoz_Science['dataset'] = 'Dmoz-Science'\n",
    "df_Dmoz_Science['entropy'] = z_score_standardization(df_Dmoz_Science['entropy'])\n",
    "\n",
    "\n",
    "df_Dmoz_Sports=pd.read_parquet('/home/ggnicolau/Documents/TCC/bertopic-vocabulary-mismatch/data/interim/proposal/df_results_proposal_Dmoz-Sports.parquet.gzip').sample(499)\n",
    "df_Dmoz_Sports['dataset'] = 'Dmoz-Sports'\n",
    "df_Dmoz_Sports['entropy'] = z_score_standardization(df_Dmoz_Sports['entropy'])\n",
    "\n",
    "\n",
    "df_Industry_Sector=pd.read_parquet('/home/ggnicolau/Documents/TCC/bertopic-vocabulary-mismatch/data/interim/proposal/df_results_proposal_Industry_Sector.parquet.gzip').sample(499)\n",
    "df_Industry_Sector['dataset'] = 'Industry_Sector'\n",
    "df_Industry_Sector['entropy'] = z_score_standardization(df_Industry_Sector['entropy'])\n",
    "\n",
    "\n",
    "df_NSF=pd.read_parquet('/home/ggnicolau/Documents/TCC/bertopic-vocabulary-mismatch/data/interim/proposal/df_results_proposal_NSF.parquet.gzip').sample(499)\n",
    "df_NSF['dataset'] = 'NSF'\n",
    "df_NSF['entropy'] = z_score_standardization(df_NSF['entropy'])\n",
    "\n",
    "\n",
    "df_re8=pd.read_parquet('/home/ggnicolau/Documents/TCC/bertopic-vocabulary-mismatch/data/interim/proposal/df_results_proposal_re8.parquet.gzip').sample(499)\n",
    "df_re8['dataset'] = 're8'\n",
    "df_re8['entropy'] = z_score_standardization(df_re8['entropy'])\n",
    "\n",
    "\n",
    "# df_webkb=pd.read_parquet('/home/ggnicolau/Documents/TCC/bertopic-vocabulary-mismatch/data/interim/proposal/df_results_proposal_webkb-parsed.parquet.gzip')\n",
    "# df_webkb['dataset'] = 'webkb-parsed'"
   ]
  },
  {
   "cell_type": "code",
   "execution_count": 76,
   "id": "f20dc140-8823-4601-b2ca-a7b09884c54f",
   "metadata": {},
   "outputs": [],
   "source": [
    "#df_proposal = pd.concat([df1, df2, df3, df4, df5, df6, df7, df8, df9, df10], ignore_index=True)\n",
    "#df_proposal = pd.concat([df_classic4, df_CSTR, df_Dmoz_Computers, df_Dmoz_Health, df_Dmoz_Science, df_Industry_Sector], ignore_index=True)\n",
    "df_proposal = pd.concat([df_classic4, df_CSTR, df_Dmoz_Computers, df_Dmoz_Health, df_Dmoz_Science, df_Industry_Sector, df_re8], ignore_index=True)\n",
    "df_proposal = pd.concat([df_classic4, df_CSTR, df_Dmoz_Computers, df_Dmoz_Health, df_Dmoz_Science, df_Industry_Sector, df_re8, df_Dmoz_Sports, df_NSF], ignore_index=True)\n",
    "df_proposal['entropy'] = min_max_scaling(df_proposal['entropy'])"
   ]
  },
  {
   "cell_type": "code",
   "execution_count": 77,
   "id": "70433c4f-fa70-406a-8133-d330b81e11f1",
   "metadata": {},
   "outputs": [
    {
     "data": {
      "image/png": "[encoded data removed]",
      "text/plain": [
       "<Figure size 540x252 with 1 Axes>"
      ]
     },
     "metadata": {},
     "output_type": "display_data"
    }
   ],
   "source": [
    "import pandas as pd\n",
    "import numpy as np\n",
    "from matplotlib import pyplot as plt\n",
    "\n",
    "plt.style.use('ggplot')\n",
    "\n",
    "# Set the figure size\n",
    "plt.rcParams[\"figure.figsize\"] = [7.50, 3.50]\n",
    "plt.rcParams[\"figure.autolayout\"] = True\n",
    "\n",
    "# Pandas dataframe\n",
    "data = pd.DataFrame({\"Baseline\": df_baseline['entropy'], \"BERTopic\":  df_proposal['entropy']})\n",
    "\n",
    "# Plot the dataframe\n",
    "ax = data[['Baseline', 'BERTopic']].plot(kind='box', title='IR entropy comparison', showfliers=False)\n",
    "\n",
    "plt.savefig('IR_entropy_comparison.png', bbox_inches='tight', dpi = 180)\n",
    "\n",
    "# Display the plot\n",
    "plt.show()"
   ]
  },
  {
   "cell_type": "code",
   "execution_count": 43,
   "id": "6232de83-c59a-4e90-a5a2-91d374425661",
   "metadata": {},
   "outputs": [
    {
     "data": {
      "text/plain": [
       "count    4.491000e+03\n",
       "mean     7.436096e-17\n",
       "std      9.991087e-01\n",
       "min     -4.670559e+00\n",
       "25%     -3.528946e-01\n",
       "50%     -1.583239e-01\n",
       "75%      6.216779e-01\n",
       "max      3.895272e+00\n",
       "Name: entropy, dtype: float64"
      ]
     },
     "execution_count": 59,
     "metadata": {},
     "output_type": "execute_result"
    }
   ],
   "source": [
    "df_baseline['entropy'].describe()"
   ]
  },
  {
   "cell_type": "code",
   "execution_count": 253,
   "id": "c9242840-792b-4d82-94cd-ba04fdb47f43",
   "metadata": {},
   "outputs": [
    {
     "data": {
      "text/plain": [
       "count    4.491000e+03\n",
       "mean     6.823014e-17\n",
       "std      9.991087e-01\n",
       "min     -4.485162e+00\n",
       "25%     -5.679812e-01\n",
       "50%     -1.022515e-01\n",
       "75%      6.790952e-01\n",
       "max      3.094268e+00\n",
       "Name: entropy, dtype: float64"
      ]
     },
     "execution_count": 60,
     "metadata": {},
     "output_type": "execute_result"
    }
   ],
   "source": [
    "df_proposal['entropy'].describe()"
   ]
  },
  {
   "cell_type": "code",
   "execution_count": null,
   "id": "5618fab6-20d1-4daf-92c0-b9949d90f91c",
   "metadata": {},
   "outputs": [],
   "source": []
  },
  {
   "cell_type": "code",
   "execution_count": null,
   "id": "e7630b17-c0bc-471a-be0e-4119d3a9f218",
   "metadata": {},
   "outputs": [],
   "source": []
  },
  {
   "cell_type": "code",
   "execution_count": 254,
   "id": "d841f6cf-f875-4f64-be30-984d65ad547a",
   "metadata": {},
   "outputs": [
    {
     "data": {
      "text/plain": [
       "(4491, 5)"
      ]
     },
     "execution_count": 61,
     "metadata": {},
     "output_type": "execute_result"
    }
   ],
   "source": [
    "df_baseline.shape"
   ]
  },
  {
   "cell_type": "code",
   "execution_count": null,
   "id": "96613511-4b5c-49ca-a1dc-736c20983bbc",
   "metadata": {},
   "outputs": [],
   "source": []
  },
  {
   "cell_type": "code",
   "execution_count": null,
   "id": "eb425026-3040-4d27-8066-afb7ec0ceb00",
   "metadata": {},
   "outputs": [],
   "source": []
  },
  {
   "cell_type": "code",
   "execution_count": null,
   "id": "b88232f0-9fc9-4e93-89a2-9729e24c78fa",
   "metadata": {},
   "outputs": [],
   "source": []
  },
  {
   "cell_type": "code",
   "execution_count": null,
   "id": "f7b41368-e1ab-40be-95fa-e0b356856b2f",
   "metadata": {},
   "outputs": [],
   "source": []
  },
  {
   "cell_type": "code",
   "execution_count": null,
   "id": "5dbddc1b-a073-4e50-803b-fd9589d098bc",
   "metadata": {},
   "outputs": [],
   "source": []
  },
  {
   "cell_type": "code",
   "execution_count": null,
   "id": "1197c088-4f96-4705-993b-8f5b59bb6973",
   "metadata": {},
   "outputs": [],
   "source": []
  },
  {
   "cell_type": "code",
   "execution_count": null,
   "id": "97bc3643-dfb7-44cb-a7c9-766343cca4d2",
   "metadata": {},
   "outputs": [],
   "source": []
  },
  {
   "cell_type": "code",
   "execution_count": null,
   "id": "8d1e77da-6123-49f2-9b60-a144542ec301",
   "metadata": {},
   "outputs": [],
   "source": []
  },
  {
   "cell_type": "code",
   "execution_count": null,
   "id": "00c708c7-7d1d-44a2-91e1-1ba921112b6c",
   "metadata": {},
   "outputs": [],
   "source": []
  },
  {
   "cell_type": "code",
   "execution_count": null,
   "id": "8de2077e-e8de-466b-be43-1a432c04de61",
   "metadata": {},
   "outputs": [],
   "source": []
  },
  {
   "cell_type": "code",
   "execution_count": null,
   "id": "b7df7aba-ef80-419d-87df-94647c8610cb",
   "metadata": {},
   "outputs": [],
   "source": []
  },
  {
   "cell_type": "code",
   "execution_count": null,
   "id": "4f141e6c-ee38-434f-b88e-1759ae7d7a83",
   "metadata": {},
   "outputs": [],
   "source": []
  }
 ],
 "metadata": {
  "kernelspec": {
   "display_name": "Python 3 (ipykernel)",
   "language": "python",
   "name": "python3"
  },
  "language_info": {
   "codemirror_mode": {
    "name": "ipython",
    "version": 3
   },
   "file_extension": ".py",
   "mimetype": "text/x-python",
   "name": "python",
   "nbconvert_exporter": "python",
   "pygments_lexer": "ipython3",
   "version": "3.10.2"
  }
 },
 "nbformat": 4,
 "nbformat_minor": 5
}
