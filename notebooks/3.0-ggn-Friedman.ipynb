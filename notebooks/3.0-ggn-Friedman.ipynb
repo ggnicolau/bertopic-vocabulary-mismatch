{
 "cells": [
  {
   "cell_type": "markdown",
   "metadata": {
    "id": "J2QYxpofcwTw"
   },
   "source": [
    "# Teste de Friedman + Pós-teste (Nemenyi)"
   ]
  },
  {
   "cell_type": "code",
   "execution_count": 1,
   "metadata": {
    "colab": {
     "base_uri": "https://localhost:8080/",
     "height": 1000
    },
    "id": "xMpgCAcccR6B",
    "outputId": "8ebfdce6-abc6-4d18-daa8-970d70da89f7"
   },
   "outputs": [],
   "source": [
    "!pip install orange3 -q"
   ]
  },
  {
   "cell_type": "markdown",
   "metadata": {
    "id": "hCjn0NTRi1ii"
   },
   "source": [
    "# Dados de entrada do teste\n",
    "\n",
    "Uma tabela m x n\n",
    "\n",
    "m = linhas dos métodos (sugiro baseline + 2 variações da proposta mudando embeddings), totalizando 3 métodos.\n",
    "\n",
    "n = coluna dos datasets\n",
    "\n",
    "células: valores MÉDIOS das entropias"
   ]
  },
  {
   "cell_type": "code",
   "execution_count": 16,
   "metadata": {
    "id": "B5dix5bDSJZc"
   },
   "outputs": [],
   "source": [
    "import pandas as pd\n",
    "\n",
    "classic4_baseline = pd.read_parquet('../models/predictions/baseline/df_results_baseline_classic4.parquet.gzip')\n",
    "cstr_baseline = pd.read_parquet('../models/predictions/baseline/df_results_baseline_CSTR.parquet.gzip')\n",
    "dmoz_Computers_baseline = pd.read_parquet('../models/predictions/baseline/df_results_baseline_Dmoz-Computers.parquet.gzip')\n",
    "dmoz_Health_baseline = pd.read_parquet('../models/predictions/baseline/df_results_baseline_Dmoz-Health.parquet.gzip')\n",
    "dmoz_Science_baseline = pd.read_parquet('../models/predictions/baseline/df_results_baseline_Dmoz-Science.parquet.gzip')\n",
    "dmoz_Sports_baseline = pd.read_parquet('../models/predictions/baseline/df_results_baseline_Dmoz-Sports.parquet.gzip')\n",
    "industry_Sector_baseline = pd.read_parquet('../models/predictions/baseline/df_results_baseline_Industry_Sector.parquet.gzip')\n",
    "#nsf_baseline = pd.read_parquet('../models/predictions/baseline/df_results_baseline_NSF.parquet.gzip')\n",
    "#re8_baseline = pd.read_parquet('../models/predictions/baseline/df_results_baseline_re8.parquet.gzip')\n",
    "webkb_parsed_baseline = pd.read_parquet('../models/predictions/baseline/df_results_baseline_webkb-parsed.parquet.gzip')\n",
    "\n",
    "#baseline_list = [classic4_baseline, cstr_baseline, dmoz_Computers_baseline, dmoz_Health_baseline, dmoz_Science_baseline, dmoz_Sports_baseline, industry_Sector_baseline, nsf_baseline, re8_baseline, webkb_parsed_baseline]\n",
    "baseline_list = [dmoz_Sports_baseline, classic4_baseline, cstr_baseline, dmoz_Computers_baseline, dmoz_Health_baseline, dmoz_Science_baseline, industry_Sector_baseline, webkb_parsed_baseline]"
   ]
  },
  {
   "cell_type": "code",
   "execution_count": 17,
   "metadata": {},
   "outputs": [],
   "source": [
    "#baseline_names = ['classic4', 'cstr', 'dmoz_Computers', 'dmoz_Health', 'dmoz_Science', 'dmoz_Sports', 'industry_Sector', 'nsf', 're8', 'webkb_parsed']\n",
    "baseline_names = ['dmoz_Sports', 'classic4', 'cstr', 'dmoz_Computers', 'dmoz_Health', 'dmoz_Science', 'industry_Sector', 'webkb_parsed']\n",
    "\n",
    "\n",
    "mean_baseline_list = []\n",
    "\n",
    "flag=0\n",
    "while flag<8:\n",
    "    x=baseline_list[flag]\n",
    "    y=x['entropy'].mean()\n",
    "    dict_1 = {f'{baseline_names[flag]}': y}\n",
    "    mean_baseline_list.append(dict_1)  \n",
    "    flag+=1\n",
    "    \n",
    "result = {}\n",
    "for dataframe in mean_baseline_list:\n",
    "   result.update(dataframe)\n",
    "\n",
    "dct = {k:[v] for k,v in result.items()}  # WORKAROUND\n",
    "df1 = pd.DataFrame(dct)"
   ]
  },
  {
   "cell_type": "code",
   "execution_count": 18,
   "metadata": {},
   "outputs": [],
   "source": [
    "import pandas as pd\n",
    "\n",
    "classic4_proposal = pd.read_parquet('../models/predictions/mpnet/df_results_proposal_classic4.parquet.gzip')\n",
    "cstr_proposal = pd.read_parquet('../models/predictions/mpnet/df_results_proposal_CSTR.parquet.gzip')\n",
    "dmoz_Computers_proposal = pd.read_parquet('../models/predictions/mpnet/df_results_proposal_Dmoz-Computers.parquet.gzip')\n",
    "dmoz_Health_proposal = pd.read_parquet('../models/predictions/mpnet/df_results_proposal_Dmoz-Health.parquet.gzip')\n",
    "dmoz_Science_proposal = pd.read_parquet('../models/predictions/mpnet/df_results_proposal_Dmoz-Science.parquet.gzip')\n",
    "dmoz_Sports_proposal = pd.read_parquet('../models/predictions/mpnet/df_results_proposal_Dmoz-Sports.parquet.gzip')\n",
    "industry_Sector_proposal = pd.read_parquet('../models/predictions/mpnet/df_results_proposal_Industry_Sector.parquet.gzip')\n",
    "#nsf_proposal = pd.read_parquet('../models/predictions/mpnet/df_results_proposal_NSF.parquet.gzip')\n",
    "#re8_proposal = pd.read_parquet('../models/predictions/mpnet/df_results_proposal_re8.parquet.gzip')\n",
    "webkb_parsed_proposal = pd.read_parquet('../models/predictions/mpnet/df_results_proposal_webkb-parsed.parquet.gzip')\n",
    "\n",
    "#proposal_list = [classic4_proposal, cstr_proposal, dmoz_Computers_proposal, dmoz_Health_proposal, dmoz_Science_proposal, dmoz_Sports_proposal, industry_Sector_proposal, nsf_proposal, re8_proposal, webkb_parsed_proposal]\n",
    "proposal_list = [dmoz_Sports_proposal, classic4_proposal, cstr_proposal, dmoz_Computers_proposal, dmoz_Health_proposal, dmoz_Science_proposal, industry_Sector_proposal, webkb_parsed_proposal]"
   ]
  },
  {
   "cell_type": "code",
   "execution_count": 19,
   "metadata": {},
   "outputs": [],
   "source": [
    "#proposal_names = ['classic4', 'cstr', 'dmoz_Computers', 'dmoz_Health', 'dmoz_Science', 'dmoz_Sports', 'industry_Sector', 'nsf', 're8', 'webkb_parsed']\n",
    "proposal_names = ['dmoz_Sports', 'classic4', 'cstr', 'dmoz_Computers', 'dmoz_Health', 'dmoz_Science', 'industry_Sector', 'webkb_parsed']\n",
    "\n",
    "mean_proposal_list = []\n",
    "\n",
    "flag=0\n",
    "while flag<8:\n",
    "    x=proposal_list[flag]\n",
    "    y=x['entropy'].mean()\n",
    "    dict_1 = {f'{proposal_names[flag]}': y}\n",
    "    mean_proposal_list.append(dict_1)  \n",
    "    flag+=1\n",
    "    \n",
    "result = {}\n",
    "for dataframe in mean_proposal_list:\n",
    "   result.update(dataframe)\n",
    "\n",
    "dct = {k:[v] for k,v in result.items()}  # WORKAROUND\n",
    "df2 = pd.DataFrame(dct)"
   ]
  },
  {
   "cell_type": "code",
   "execution_count": 20,
   "metadata": {},
   "outputs": [],
   "source": [
    "import pandas as pd\n",
    "\n",
    "classic4_distiluse = pd.read_parquet('../models/predictions/distiluse/df_results_distiluse_classic4.parquet.gzip')\n",
    "cstr_distiluse = pd.read_parquet('../models/predictions/distiluse/df_results_distiluse_CSTR.parquet.gzip')\n",
    "dmoz_Computers_distiluse = pd.read_parquet('../models/predictions/distiluse/df_results_distiluse_Dmoz-Computers.parquet.gzip')\n",
    "dmoz_Health_distiluse = pd.read_parquet('../models/predictions/distiluse/df_results_distiluse_Dmoz-Health.parquet.gzip')\n",
    "dmoz_Science_distiluse = pd.read_parquet('../models/predictions/distiluse/df_results_distiluse_Dmoz-Science.parquet.gzip')\n",
    "dmoz_Sports_distiluse = pd.read_parquet('../models/predictions/distiluse/df_results_distiluse_Dmoz-Sports.parquet.gzip')\n",
    "industry_Sector_distiluse = pd.read_parquet('../models/predictions/distiluse/df_results_distiluse_Industry_Sector.parquet.gzip')\n",
    "#nsf_distiluse = pd.read_parquet('../models/predictions/distiluse/df_results_distiluse_NSF.parquet.gzip')\n",
    "#re8_distiluse = pd.read_parquet('../models/predictions/distiluse/df_results_distiluse_re8.parquet.gzip')\n",
    "webkb_parsed_distiluse = pd.read_parquet('../models/predictions/distiluse/df_results_distiluse_webkb-parsed.parquet.gzip')\n",
    "\n",
    "#istiluse_list = [classic4_distiluse, cstr_distiluse, dmoz_Computers_distiluse, dmoz_Health_distiluse, dmoz_Science_distiluse, dmoz_Sports_distiluse, industry_Sector_distiluse, nsf_distiluse, re8_distiluse, webkb_parsed_distiluse]\n",
    "distiluse_list = [dmoz_Sports_distiluse, classic4_distiluse, cstr_distiluse, dmoz_Computers_distiluse, dmoz_Health_distiluse, dmoz_Science_distiluse, industry_Sector_distiluse, webkb_parsed_distiluse]"
   ]
  },
  {
   "cell_type": "code",
   "execution_count": 21,
   "metadata": {},
   "outputs": [],
   "source": [
    "distiluse_names = ['dmoz_Sports', 'classic4', 'cstr', 'dmoz_Computers', 'dmoz_Health', 'dmoz_Science', 'industry_Sector', 'webkb_parsed']\n",
    "mean_distiluse_list = []\n",
    "\n",
    "flag=0\n",
    "while flag<8:\n",
    "    x=distiluse_list[flag]\n",
    "    y=x['entropy'].mean()\n",
    "    dict_1 = {f'{distiluse_names[flag]}': y}\n",
    "    mean_distiluse_list.append(dict_1)  \n",
    "    flag+=1\n",
    "    \n",
    "result = {}\n",
    "for dataframe in mean_distiluse_list:\n",
    "   result.update(dataframe)\n",
    "\n",
    "dct = {k:[v] for k,v in result.items()}  # WORKAROUND\n",
    "df3 = pd.DataFrame(dct)"
   ]
  },
  {
   "cell_type": "code",
   "execution_count": 22,
   "metadata": {},
   "outputs": [],
   "source": [
    "df = pd.concat([df1, df2, df3]).reset_index(drop=True)\n",
    "\n",
    "new_col = ['baseline', 'mpnet', 'distiluse']\n",
    "df.insert(loc=0, column='method', value=new_col)"
   ]
  },
  {
   "cell_type": "code",
   "execution_count": 23,
   "metadata": {},
   "outputs": [
    {
     "data": {
      "text/html": [
       "<div>\n",
       "<style scoped>\n",
       "    .dataframe tbody tr th:only-of-type {\n",
       "        vertical-align: middle;\n",
       "    }\n",
       "\n",
       "    .dataframe tbody tr th {\n",
       "        vertical-align: top;\n",
       "    }\n",
       "\n",
       "    .dataframe thead th {\n",
       "        text-align: right;\n",
       "    }\n",
       "</style>\n",
       "<table border=\"1\" class=\"dataframe\">\n",
       "  <thead>\n",
       "    <tr style=\"text-align: right;\">\n",
       "      <th></th>\n",
       "      <th>method</th>\n",
       "      <th>dmoz_Sports</th>\n",
       "      <th>classic4</th>\n",
       "      <th>cstr</th>\n",
       "      <th>dmoz_Computers</th>\n",
       "      <th>dmoz_Health</th>\n",
       "      <th>dmoz_Science</th>\n",
       "      <th>industry_Sector</th>\n",
       "      <th>webkb_parsed</th>\n",
       "    </tr>\n",
       "  </thead>\n",
       "  <tbody>\n",
       "    <tr>\n",
       "      <th>0</th>\n",
       "      <td>baseline</td>\n",
       "      <td>0.069335</td>\n",
       "      <td>0.496493</td>\n",
       "      <td>0.785430</td>\n",
       "      <td>0.739105</td>\n",
       "      <td>0.638945</td>\n",
       "      <td>0.766606</td>\n",
       "      <td>0.800533</td>\n",
       "      <td>0.749695</td>\n",
       "    </tr>\n",
       "    <tr>\n",
       "      <th>1</th>\n",
       "      <td>mpnet</td>\n",
       "      <td>0.188207</td>\n",
       "      <td>0.441927</td>\n",
       "      <td>0.776750</td>\n",
       "      <td>0.682021</td>\n",
       "      <td>0.570866</td>\n",
       "      <td>0.686000</td>\n",
       "      <td>0.762498</td>\n",
       "      <td>0.729132</td>\n",
       "    </tr>\n",
       "    <tr>\n",
       "      <th>2</th>\n",
       "      <td>distiluse</td>\n",
       "      <td>0.213400</td>\n",
       "      <td>0.462332</td>\n",
       "      <td>0.785575</td>\n",
       "      <td>0.694653</td>\n",
       "      <td>0.605149</td>\n",
       "      <td>0.726343</td>\n",
       "      <td>0.782288</td>\n",
       "      <td>0.721760</td>\n",
       "    </tr>\n",
       "  </tbody>\n",
       "</table>\n",
       "</div>"
      ],
      "text/plain": [
       "      method  dmoz_Sports  classic4      cstr  dmoz_Computers  dmoz_Health  \\\n",
       "0   baseline     0.069335  0.496493  0.785430        0.739105     0.638945   \n",
       "1      mpnet     0.188207  0.441927  0.776750        0.682021     0.570866   \n",
       "2  distiluse     0.213400  0.462332  0.785575        0.694653     0.605149   \n",
       "\n",
       "   dmoz_Science  industry_Sector  webkb_parsed  \n",
       "0      0.766606         0.800533      0.749695  \n",
       "1      0.686000         0.762498      0.729132  \n",
       "2      0.726343         0.782288      0.721760  "
      ]
     },
     "execution_count": 23,
     "metadata": {},
     "output_type": "execute_result"
    }
   ],
   "source": [
    "df"
   ]
  },
  {
   "cell_type": "markdown",
   "metadata": {
    "id": "7qECdHytjKgi"
   },
   "source": [
    "# Gerando Ranking\n",
    "\n",
    "Para cada dataset, ordenar os métodos num ranking médio.\n",
    "\n",
    "Se quando menor = melhor, então o ascendig=True.\n",
    "\n",
    "No exemplo abaixo, era F1 (então quanto maior=melhor)"
   ]
  },
  {
   "cell_type": "code",
   "execution_count": 27,
   "metadata": {
    "colab": {
     "base_uri": "https://localhost:8080/",
     "height": 237
    },
    "id": "Up-xKptdjJvK",
    "outputId": "30f6520e-da13-4451-ea05-8e34e478c6ba"
   },
   "outputs": [
    {
     "data": {
      "text/html": [
       "<div>\n",
       "<style scoped>\n",
       "    .dataframe tbody tr th:only-of-type {\n",
       "        vertical-align: middle;\n",
       "    }\n",
       "\n",
       "    .dataframe tbody tr th {\n",
       "        vertical-align: top;\n",
       "    }\n",
       "\n",
       "    .dataframe thead th {\n",
       "        text-align: right;\n",
       "    }\n",
       "</style>\n",
       "<table border=\"1\" class=\"dataframe\">\n",
       "  <thead>\n",
       "    <tr style=\"text-align: right;\">\n",
       "      <th></th>\n",
       "      <th>method</th>\n",
       "      <th>dmoz_Sports</th>\n",
       "      <th>classic4</th>\n",
       "      <th>cstr</th>\n",
       "      <th>dmoz_Computers</th>\n",
       "      <th>dmoz_Health</th>\n",
       "      <th>dmoz_Science</th>\n",
       "      <th>industry_Sector</th>\n",
       "      <th>webkb_parsed</th>\n",
       "      <th>classic4_rank</th>\n",
       "      <th>cstr_rank</th>\n",
       "      <th>dmoz_Computers_rank</th>\n",
       "      <th>dmoz_Science_rank</th>\n",
       "      <th>dmoz_Health_rank</th>\n",
       "      <th>dmoz_Sports_rank</th>\n",
       "      <th>industry_Sector_rank</th>\n",
       "      <th>webkb_parsed_rank</th>\n",
       "      <th>average_rank</th>\n",
       "    </tr>\n",
       "  </thead>\n",
       "  <tbody>\n",
       "    <tr>\n",
       "      <th>0</th>\n",
       "      <td>baseline</td>\n",
       "      <td>0.069335</td>\n",
       "      <td>0.496493</td>\n",
       "      <td>0.785430</td>\n",
       "      <td>0.739105</td>\n",
       "      <td>0.638945</td>\n",
       "      <td>0.766606</td>\n",
       "      <td>0.800533</td>\n",
       "      <td>0.749695</td>\n",
       "      <td>3.0</td>\n",
       "      <td>2.0</td>\n",
       "      <td>3.0</td>\n",
       "      <td>3.0</td>\n",
       "      <td>3.0</td>\n",
       "      <td>1.0</td>\n",
       "      <td>3.0</td>\n",
       "      <td>3.0</td>\n",
       "      <td>2.625</td>\n",
       "    </tr>\n",
       "    <tr>\n",
       "      <th>1</th>\n",
       "      <td>mpnet</td>\n",
       "      <td>0.188207</td>\n",
       "      <td>0.441927</td>\n",
       "      <td>0.776750</td>\n",
       "      <td>0.682021</td>\n",
       "      <td>0.570866</td>\n",
       "      <td>0.686000</td>\n",
       "      <td>0.762498</td>\n",
       "      <td>0.729132</td>\n",
       "      <td>1.0</td>\n",
       "      <td>1.0</td>\n",
       "      <td>1.0</td>\n",
       "      <td>1.0</td>\n",
       "      <td>1.0</td>\n",
       "      <td>2.0</td>\n",
       "      <td>1.0</td>\n",
       "      <td>2.0</td>\n",
       "      <td>1.250</td>\n",
       "    </tr>\n",
       "    <tr>\n",
       "      <th>2</th>\n",
       "      <td>distiluse</td>\n",
       "      <td>0.213400</td>\n",
       "      <td>0.462332</td>\n",
       "      <td>0.785575</td>\n",
       "      <td>0.694653</td>\n",
       "      <td>0.605149</td>\n",
       "      <td>0.726343</td>\n",
       "      <td>0.782288</td>\n",
       "      <td>0.721760</td>\n",
       "      <td>2.0</td>\n",
       "      <td>3.0</td>\n",
       "      <td>2.0</td>\n",
       "      <td>2.0</td>\n",
       "      <td>2.0</td>\n",
       "      <td>3.0</td>\n",
       "      <td>2.0</td>\n",
       "      <td>1.0</td>\n",
       "      <td>2.125</td>\n",
       "    </tr>\n",
       "  </tbody>\n",
       "</table>\n",
       "</div>"
      ],
      "text/plain": [
       "      method  dmoz_Sports  classic4      cstr  dmoz_Computers  dmoz_Health  \\\n",
       "0   baseline     0.069335  0.496493  0.785430        0.739105     0.638945   \n",
       "1      mpnet     0.188207  0.441927  0.776750        0.682021     0.570866   \n",
       "2  distiluse     0.213400  0.462332  0.785575        0.694653     0.605149   \n",
       "\n",
       "   dmoz_Science  industry_Sector  webkb_parsed  classic4_rank  cstr_rank  \\\n",
       "0      0.766606         0.800533      0.749695            3.0        2.0   \n",
       "1      0.686000         0.762498      0.729132            1.0        1.0   \n",
       "2      0.726343         0.782288      0.721760            2.0        3.0   \n",
       "\n",
       "   dmoz_Computers_rank  dmoz_Science_rank  dmoz_Health_rank  dmoz_Sports_rank  \\\n",
       "0                  3.0                3.0               3.0               1.0   \n",
       "1                  1.0                1.0               1.0               2.0   \n",
       "2                  2.0                2.0               2.0               3.0   \n",
       "\n",
       "   industry_Sector_rank  webkb_parsed_rank  average_rank  \n",
       "0                   3.0                3.0         2.625  \n",
       "1                   1.0                2.0         1.250  \n",
       "2                   2.0                1.0         2.125  "
      ]
     },
     "execution_count": 27,
     "metadata": {},
     "output_type": "execute_result"
    }
   ],
   "source": [
    "df['classic4_rank'] = df['classic4'].rank(method='average',ascending=True)\n",
    "df['cstr_rank'] = df['cstr'].rank(method='average',ascending=True)\n",
    "df['dmoz_Computers_rank'] = df['dmoz_Computers'].rank(method='average',ascending=True)\n",
    "df['dmoz_Science_rank'] = df['dmoz_Science'].rank(method='average',ascending=True)\n",
    "df['dmoz_Health_rank'] = df['dmoz_Health'].rank(method='average',ascending=True)\n",
    "df['dmoz_Sports_rank'] = df['dmoz_Sports'].rank(method='average',ascending=True)\n",
    "df['industry_Sector_rank'] = df['industry_Sector'].rank(method='average',ascending=True)\n",
    "#df['nsf_rank'] = df['nsf'].rank(method='average',ascending=True)\n",
    "#df['re8_rank'] = df['re8'].rank(method='average',ascending=True)\n",
    "df['webkb_parsed_rank'] = df['webkb_parsed'].rank(method='average',ascending=True)\n",
    "\n",
    "\n",
    "#df['average_rank'] = (df['classic4_rank']+df['cstr_rank']+df['dmoz_Computers_rank']+df['dmoz_Science_rank']+df['dmoz_Health_rank']+df['dmoz_Sports_rank']+df['industry_Sector_rank']+df['nsf_rank']+df['re8_rank']+df['webkb_parsed_rank'])/10\n",
    "df['average_rank'] = (df['dmoz_Sports_rank']+df['classic4_rank']+df['cstr_rank']+df['dmoz_Computers_rank']+df['dmoz_Science_rank']+df['dmoz_Health_rank']+df['industry_Sector_rank']+df['webkb_parsed_rank'])/8\n",
    "df"
   ]
  },
  {
   "cell_type": "markdown",
   "metadata": {
    "id": "fJtWTBCZjj-7"
   },
   "source": [
    "# Imprimindo average_ranking"
   ]
  },
  {
   "cell_type": "code",
   "execution_count": 28,
   "metadata": {
    "colab": {
     "base_uri": "https://localhost:8080/"
    },
    "id": "9_tm5AbXT3yq",
    "outputId": "7e4956ee-6ad6-4a8d-b07b-1da622fce78b"
   },
   "outputs": [
    {
     "name": "stdout",
     "output_type": "stream",
     "text": [
      "['baseline' 'mpnet' 'distiluse']\n",
      "[2.625 1.25  2.125]\n"
     ]
    }
   ],
   "source": [
    "print(df.method.values)\n",
    "print(df.average_rank.values)"
   ]
  },
  {
   "cell_type": "markdown",
   "metadata": {
    "id": "fyVUnfRHcr7i"
   },
   "source": [
    "# Rodando o teste estatístico\n",
    "\n",
    "Usar o arquivo PDF para o paper"
   ]
  },
  {
   "cell_type": "code",
   "execution_count": 29,
   "metadata": {
    "colab": {
     "base_uri": "https://localhost:8080/",
     "height": 181
    },
    "id": "-ODzJTbMcLgT",
    "outputId": "75a08206-79e1-4f2c-9d7e-d6faaea0ea35"
   },
   "outputs": [
    {
     "data": {
      "text/plain": [
       "<Figure size 144x144 with 0 Axes>"
      ]
     },
     "metadata": {},
     "output_type": "display_data"
    },
    {
     "data": {
      "image/png": "[encoded data removed]",
      "text/plain": [
       "<Figure size 720x104.4 with 1 Axes>"
      ]
     },
     "metadata": {},
     "output_type": "display_data"
    }
   ],
   "source": [
    "import Orange\n",
    "\n",
    "import matplotlib.pyplot as plt\n",
    "# Algoritmos\n",
    "names = df.method.values\n",
    "plt.figure(figsize=(2, 2))\n",
    "# Ranking Medio\n",
    "avranks =  df.average_rank.values\n",
    "\n",
    "# Num. de datasets:\n",
    "datasets = 5\n",
    "\n",
    "cd = Orange.evaluation.compute_CD(avranks, datasets)\n",
    "\n",
    "Orange.evaluation.graph_ranks(avranks, names, cd=cd, width=10, textspace=2.5)\n",
    "\n",
    "plt.draw()\n",
    "plt.savefig(\"eval1.pdf\",pad_inches=0)\n",
    "plt.savefig(\"eval1.png\",pad_inches=0)\n",
    "\n",
    "plt.show()\n",
    "plt.close()"
   ]
  },
  {
   "cell_type": "markdown",
   "metadata": {
    "id": "iCZ4TEzzj5ZB",
    "tags": []
   },
   "source": [
    "# Entendendo o diagrama\n",
    "\n",
    "Os métodos são ordenados em um ranking médio.\n",
    "\n",
    "O teste de friedman calcula qual é a diferença mínima no ranking para que se possa afirmar que um método é superior a outro. Essa diferença se chama CD (critical difference).\n",
    "\n",
    "Linhas conectam métodos sem CD significativo.\n",
    "\n",
    "No exemplo acima, apenas GNEE é superior ao Struct2Vec"
   ]
  }
 ],
 "metadata": {
  "colab": {
   "collapsed_sections": [],
   "name": "Exemplo de TESTE FRIEDMAN.ipynb",
   "provenance": []
  },
  "kernelspec": {
   "display_name": "Python 3 (ipykernel)",
   "language": "python",
   "name": "python3"
  },
  "language_info": {
   "codemirror_mode": {
    "name": "ipython",
    "version": 3
   },
   "file_extension": ".py",
   "mimetype": "text/x-python",
   "name": "python",
   "nbconvert_exporter": "python",
   "pygments_lexer": "ipython3",
   "version": "3.10.2"
  }
 },
 "nbformat": 4,
 "nbformat_minor": 4
}
